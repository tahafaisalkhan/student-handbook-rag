{
 "cells": [
  {
   "cell_type": "markdown",
   "id": "fb343a96",
   "metadata": {},
   "source": [
    "# RAG"
   ]
  },
  {
   "cell_type": "code",
   "execution_count": null,
   "id": "e9451fba",
   "metadata": {},
   "outputs": [],
   "source": [
    "# To run mistral:\n",
    "# 1) \"ollama serve\" on one tab in terminal\n",
    "# 2) \"ollama run mistral\" on another tab in terminal"
   ]
  },
  {
   "cell_type": "code",
   "execution_count": null,
   "id": "16178bf3",
   "metadata": {},
   "outputs": [],
   "source": [
    "# !pip install -r requirements.txt"
   ]
  },
  {
   "cell_type": "code",
   "execution_count": null,
   "id": "62435579",
   "metadata": {},
   "outputs": [],
   "source": [
    "import fitz\n",
    "from langchain.document_loaders import TextLoader\n",
    "from langchain.text_splitter import RecursiveCharacterTextSplitter\n",
    "from langchain.vectorstores import FAISS\n",
    "from langchain.embeddings import HuggingFaceEmbeddings\n",
    "from langchain.llms import Ollama\n",
    "from langchain.chains import RetrievalQA"
   ]
  },
  {
   "cell_type": "markdown",
   "id": "7f031b1d",
   "metadata": {},
   "source": [
    "## Chunking and Embedding"
   ]
  },
  {
   "cell_type": "code",
   "execution_count": null,
   "id": "9dc9e1fd",
   "metadata": {},
   "outputs": [],
   "source": [
    "def extract_text_from_pdf(pdf_path):\n",
    "    doc = fitz.open(pdf_path)\n",
    "    full_text = \"\"\n",
    "    for page in doc:\n",
    "        text = page.get_text(\"text\")  # Avoids layout artifacts\n",
    "        full_text += text + \"\\n\"\n",
    "    return full_text\n",
    "\n",
    "text = extract_text_from_pdf(\"student_handbook.pdf\")\n",
    "with open(\"student_handbook.txt\", \"w\", encoding=\"utf-8\") as f:\n",
    "    f.write(text)\n"
   ]
  },
  {
   "cell_type": "code",
   "execution_count": null,
   "id": "4d62a187",
   "metadata": {},
   "outputs": [
    {
     "name": "stderr",
     "output_type": "stream",
     "text": [
      "huggingface/tokenizers: The current process just got forked, after parallelism has already been used. Disabling parallelism to avoid deadlocks...\n",
      "To disable this warning, you can either:\n",
      "\t- Avoid using `tokenizers` before the fork if possible\n",
      "\t- Explicitly set the environment variable TOKENIZERS_PARALLELISM=(true | false)\n"
     ]
    },
    {
     "name": "stdout",
     "output_type": "stream",
     "text": [
      "Requirement already satisfied: langchain-community in /Users/tahafaisal/miniconda3/envs/pytorch-mps/lib/python3.10/site-packages (0.3.24)\n",
      "Requirement already satisfied: langchain-core<1.0.0,>=0.3.59 in /Users/tahafaisal/miniconda3/envs/pytorch-mps/lib/python3.10/site-packages (from langchain-community) (0.3.60)\n",
      "Requirement already satisfied: langchain<1.0.0,>=0.3.25 in /Users/tahafaisal/miniconda3/envs/pytorch-mps/lib/python3.10/site-packages (from langchain-community) (0.3.25)\n",
      "Requirement already satisfied: SQLAlchemy<3,>=1.4 in /Users/tahafaisal/miniconda3/envs/pytorch-mps/lib/python3.10/site-packages (from langchain-community) (2.0.41)\n",
      "Requirement already satisfied: requests<3,>=2 in /Users/tahafaisal/miniconda3/envs/pytorch-mps/lib/python3.10/site-packages (from langchain-community) (2.32.3)\n",
      "Requirement already satisfied: PyYAML>=5.3 in /Users/tahafaisal/miniconda3/envs/pytorch-mps/lib/python3.10/site-packages (from langchain-community) (6.0.2)\n",
      "Requirement already satisfied: aiohttp<4.0.0,>=3.8.3 in /Users/tahafaisal/miniconda3/envs/pytorch-mps/lib/python3.10/site-packages (from langchain-community) (3.11.17)\n",
      "Requirement already satisfied: tenacity!=8.4.0,<10,>=8.1.0 in /Users/tahafaisal/miniconda3/envs/pytorch-mps/lib/python3.10/site-packages (from langchain-community) (9.0.0)\n",
      "Requirement already satisfied: dataclasses-json<0.7,>=0.5.7 in /Users/tahafaisal/miniconda3/envs/pytorch-mps/lib/python3.10/site-packages (from langchain-community) (0.6.7)\n",
      "Requirement already satisfied: pydantic-settings<3.0.0,>=2.4.0 in /Users/tahafaisal/miniconda3/envs/pytorch-mps/lib/python3.10/site-packages (from langchain-community) (2.9.1)\n",
      "Requirement already satisfied: langsmith<0.4,>=0.1.125 in /Users/tahafaisal/miniconda3/envs/pytorch-mps/lib/python3.10/site-packages (from langchain-community) (0.3.42)\n",
      "Requirement already satisfied: httpx-sse<1.0.0,>=0.4.0 in /Users/tahafaisal/miniconda3/envs/pytorch-mps/lib/python3.10/site-packages (from langchain-community) (0.4.0)\n",
      "Requirement already satisfied: numpy>=1.26.2 in /Users/tahafaisal/miniconda3/envs/pytorch-mps/lib/python3.10/site-packages (from langchain-community) (2.2.6)\n",
      "Requirement already satisfied: aiohappyeyeballs>=2.3.0 in /Users/tahafaisal/miniconda3/envs/pytorch-mps/lib/python3.10/site-packages (from aiohttp<4.0.0,>=3.8.3->langchain-community) (2.6.1)\n",
      "Requirement already satisfied: aiosignal>=1.1.2 in /Users/tahafaisal/miniconda3/envs/pytorch-mps/lib/python3.10/site-packages (from aiohttp<4.0.0,>=3.8.3->langchain-community) (1.3.2)\n",
      "Requirement already satisfied: async-timeout<6.0,>=4.0 in /Users/tahafaisal/miniconda3/envs/pytorch-mps/lib/python3.10/site-packages (from aiohttp<4.0.0,>=3.8.3->langchain-community) (4.0.3)\n",
      "Requirement already satisfied: attrs>=17.3.0 in /Users/tahafaisal/miniconda3/envs/pytorch-mps/lib/python3.10/site-packages (from aiohttp<4.0.0,>=3.8.3->langchain-community) (24.3.0)\n",
      "Requirement already satisfied: frozenlist>=1.1.1 in /Users/tahafaisal/miniconda3/envs/pytorch-mps/lib/python3.10/site-packages (from aiohttp<4.0.0,>=3.8.3->langchain-community) (1.6.0)\n",
      "Requirement already satisfied: multidict<7.0,>=4.5 in /Users/tahafaisal/miniconda3/envs/pytorch-mps/lib/python3.10/site-packages (from aiohttp<4.0.0,>=3.8.3->langchain-community) (6.4.3)\n",
      "Requirement already satisfied: propcache>=0.2.0 in /Users/tahafaisal/miniconda3/envs/pytorch-mps/lib/python3.10/site-packages (from aiohttp<4.0.0,>=3.8.3->langchain-community) (0.3.1)\n",
      "Requirement already satisfied: yarl<2.0,>=1.17.0 in /Users/tahafaisal/miniconda3/envs/pytorch-mps/lib/python3.10/site-packages (from aiohttp<4.0.0,>=3.8.3->langchain-community) (1.20.0)\n",
      "Requirement already satisfied: marshmallow<4.0.0,>=3.18.0 in /Users/tahafaisal/miniconda3/envs/pytorch-mps/lib/python3.10/site-packages (from dataclasses-json<0.7,>=0.5.7->langchain-community) (3.26.1)\n",
      "Requirement already satisfied: typing-inspect<1,>=0.4.0 in /Users/tahafaisal/miniconda3/envs/pytorch-mps/lib/python3.10/site-packages (from dataclasses-json<0.7,>=0.5.7->langchain-community) (0.9.0)\n",
      "Requirement already satisfied: langchain-text-splitters<1.0.0,>=0.3.8 in /Users/tahafaisal/miniconda3/envs/pytorch-mps/lib/python3.10/site-packages (from langchain<1.0.0,>=0.3.25->langchain-community) (0.3.8)\n",
      "Requirement already satisfied: pydantic<3.0.0,>=2.7.4 in /Users/tahafaisal/miniconda3/envs/pytorch-mps/lib/python3.10/site-packages (from langchain<1.0.0,>=0.3.25->langchain-community) (2.10.5)\n",
      "Requirement already satisfied: jsonpatch<2.0,>=1.33 in /Users/tahafaisal/miniconda3/envs/pytorch-mps/lib/python3.10/site-packages (from langchain-core<1.0.0,>=0.3.59->langchain-community) (1.33)\n",
      "Requirement already satisfied: packaging<25,>=23.2 in /Users/tahafaisal/miniconda3/envs/pytorch-mps/lib/python3.10/site-packages (from langchain-core<1.0.0,>=0.3.59->langchain-community) (24.2)\n",
      "Requirement already satisfied: typing-extensions>=4.7 in /Users/tahafaisal/miniconda3/envs/pytorch-mps/lib/python3.10/site-packages (from langchain-core<1.0.0,>=0.3.59->langchain-community) (4.12.2)\n",
      "Requirement already satisfied: httpx<1,>=0.23.0 in /Users/tahafaisal/miniconda3/envs/pytorch-mps/lib/python3.10/site-packages (from langsmith<0.4,>=0.1.125->langchain-community) (0.28.1)\n",
      "Requirement already satisfied: orjson<4.0.0,>=3.9.14 in /Users/tahafaisal/miniconda3/envs/pytorch-mps/lib/python3.10/site-packages (from langsmith<0.4,>=0.1.125->langchain-community) (3.10.18)\n",
      "Requirement already satisfied: requests-toolbelt<2.0.0,>=1.0.0 in /Users/tahafaisal/miniconda3/envs/pytorch-mps/lib/python3.10/site-packages (from langsmith<0.4,>=0.1.125->langchain-community) (1.0.0)\n",
      "Requirement already satisfied: zstandard<0.24.0,>=0.23.0 in /Users/tahafaisal/miniconda3/envs/pytorch-mps/lib/python3.10/site-packages (from langsmith<0.4,>=0.1.125->langchain-community) (0.23.0)\n",
      "Requirement already satisfied: python-dotenv>=0.21.0 in /Users/tahafaisal/miniconda3/envs/pytorch-mps/lib/python3.10/site-packages (from pydantic-settings<3.0.0,>=2.4.0->langchain-community) (1.1.0)\n",
      "Requirement already satisfied: typing-inspection>=0.4.0 in /Users/tahafaisal/miniconda3/envs/pytorch-mps/lib/python3.10/site-packages (from pydantic-settings<3.0.0,>=2.4.0->langchain-community) (0.4.0)\n",
      "Requirement already satisfied: charset-normalizer<4,>=2 in /Users/tahafaisal/miniconda3/envs/pytorch-mps/lib/python3.10/site-packages (from requests<3,>=2->langchain-community) (3.3.2)\n",
      "Requirement already satisfied: idna<4,>=2.5 in /Users/tahafaisal/miniconda3/envs/pytorch-mps/lib/python3.10/site-packages (from requests<3,>=2->langchain-community) (3.7)\n",
      "Requirement already satisfied: urllib3<3,>=1.21.1 in /Users/tahafaisal/miniconda3/envs/pytorch-mps/lib/python3.10/site-packages (from requests<3,>=2->langchain-community) (2.3.0)\n",
      "Requirement already satisfied: certifi>=2017.4.17 in /Users/tahafaisal/miniconda3/envs/pytorch-mps/lib/python3.10/site-packages (from requests<3,>=2->langchain-community) (2024.12.14)\n",
      "Requirement already satisfied: anyio in /Users/tahafaisal/miniconda3/envs/pytorch-mps/lib/python3.10/site-packages (from httpx<1,>=0.23.0->langsmith<0.4,>=0.1.125->langchain-community) (4.8.0)\n",
      "Requirement already satisfied: httpcore==1.* in /Users/tahafaisal/miniconda3/envs/pytorch-mps/lib/python3.10/site-packages (from httpx<1,>=0.23.0->langsmith<0.4,>=0.1.125->langchain-community) (1.0.7)\n",
      "Requirement already satisfied: h11<0.15,>=0.13 in /Users/tahafaisal/miniconda3/envs/pytorch-mps/lib/python3.10/site-packages (from httpcore==1.*->httpx<1,>=0.23.0->langsmith<0.4,>=0.1.125->langchain-community) (0.14.0)\n",
      "Requirement already satisfied: jsonpointer>=1.9 in /Users/tahafaisal/miniconda3/envs/pytorch-mps/lib/python3.10/site-packages (from jsonpatch<2.0,>=1.33->langchain-core<1.0.0,>=0.3.59->langchain-community) (3.0.0)\n",
      "Requirement already satisfied: annotated-types>=0.6.0 in /Users/tahafaisal/miniconda3/envs/pytorch-mps/lib/python3.10/site-packages (from pydantic<3.0.0,>=2.7.4->langchain<1.0.0,>=0.3.25->langchain-community) (0.7.0)\n",
      "Requirement already satisfied: pydantic-core==2.27.2 in /Users/tahafaisal/miniconda3/envs/pytorch-mps/lib/python3.10/site-packages (from pydantic<3.0.0,>=2.7.4->langchain<1.0.0,>=0.3.25->langchain-community) (2.27.2)\n",
      "Requirement already satisfied: mypy-extensions>=0.3.0 in /Users/tahafaisal/miniconda3/envs/pytorch-mps/lib/python3.10/site-packages (from typing-inspect<1,>=0.4.0->dataclasses-json<0.7,>=0.5.7->langchain-community) (1.1.0)\n",
      "Requirement already satisfied: exceptiongroup>=1.0.2 in /Users/tahafaisal/miniconda3/envs/pytorch-mps/lib/python3.10/site-packages (from anyio->httpx<1,>=0.23.0->langsmith<0.4,>=0.1.125->langchain-community) (1.2.2)\n",
      "Requirement already satisfied: sniffio>=1.1 in /Users/tahafaisal/miniconda3/envs/pytorch-mps/lib/python3.10/site-packages (from anyio->httpx<1,>=0.23.0->langsmith<0.4,>=0.1.125->langchain-community) (1.3.1)\n"
     ]
    }
   ],
   "source": [
    "loader = TextLoader(\"student_handbook.txt\")\n",
    "docs = loader.load()\n",
    "\n",
    "splitter = RecursiveCharacterTextSplitter(chunk_size=500, chunk_overlap=100)\n",
    "chunks = splitter.split_documents(docs)\n",
    "\n",
    "embedding = HuggingFaceEmbeddings(model_name=\"all-MiniLM-L6-v2\")\n",
    "vectorstore = FAISS.from_documents(chunks, embedding)\n",
    "vectorstore.save_local(\"faiss_student_handbook\")\n"
   ]
  },
  {
   "cell_type": "markdown",
   "id": "70dfa35b",
   "metadata": {},
   "source": [
    "## Retrieval"
   ]
  },
  {
   "cell_type": "code",
   "execution_count": 11,
   "id": "1581068e",
   "metadata": {},
   "outputs": [
    {
     "name": "stdout",
     "output_type": "stream",
     "text": [
      " To complete the Management Science (MGS) degree, a student must meet the following requirements:\n",
      "\n",
      "1. Complete a total of 130-132 credit hours.\n",
      "2. Fulfill the University Core requirement which consists of 8 credit hours (3 courses).\n",
      "3. Complete the University Distribution requirement by taking courses in both In Group and Out-Group, totaling 14 credit hours (4 courses).\n",
      "4. Finish the MGSHSS School Core Curriculum which requires 9 credit hours (3 courses).\n",
      "5. Complete Free Electives as needed to reach the minimum of 130 credit hours.\n",
      "6. Fulfill the Major Requirement, including:\n",
      "   a. Business Core courses\n",
      "   b. Major Cores courses\n",
      "   c. Major Electives courses (which can be completed in combinations of 5 MGS electives or 4 MGS electives + Internship)\n",
      "7. Declare their major by the end of their sophomore year.\n",
      "8. Students graduating with a BSc (Hons) degree will also need to complete any additional requirements specific to their chosen major, such as the university core and distribution in addition to major core, elective and free elective requirements if they are pursuing a BSc (Hons) in Economics and Mathematics.\n"
     ]
    }
   ],
   "source": [
    "llm = Ollama(model=\"mistral\")\n",
    "retriever = vectorstore.as_retriever()\n",
    "qa_chain = RetrievalQA.from_chain_type(llm=llm, retriever=retriever)\n",
    "query = \"What are the requirements to complete the MGS degree?\"\n",
    "answer = qa_chain.run(query)\n",
    "print(answer)\n"
   ]
  }
 ],
 "metadata": {
  "kernelspec": {
   "display_name": "Python 3",
   "language": "python",
   "name": "python3"
  },
  "language_info": {
   "codemirror_mode": {
    "name": "ipython",
    "version": 3
   },
   "file_extension": ".py",
   "mimetype": "text/x-python",
   "name": "python",
   "nbconvert_exporter": "python",
   "pygments_lexer": "ipython3",
   "version": "3.10.13"
  }
 },
 "nbformat": 4,
 "nbformat_minor": 5
}
